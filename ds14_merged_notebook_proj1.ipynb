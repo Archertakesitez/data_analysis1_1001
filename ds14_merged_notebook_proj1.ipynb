{
 "cells": [
  {
   "cell_type": "code",
   "execution_count": 1,
   "id": "9b409a26-63c1-4063-9401-979b85bc2753",
   "metadata": {
    "tags": []
   },
   "outputs": [],
   "source": [
    "import pandas as pd\n",
    "import numpy as np\n",
    "df = pd.read_csv(\"data/movieReplicationSet.csv\")"
   ]
  },
  {
   "cell_type": "code",
   "execution_count": 2,
   "id": "6fa82c93-5a13-4e2f-a974-488290860447",
   "metadata": {
    "tags": []
   },
   "outputs": [
    {
     "data": {
      "text/html": [
       "<div>\n",
       "<style scoped>\n",
       "    .dataframe tbody tr th:only-of-type {\n",
       "        vertical-align: middle;\n",
       "    }\n",
       "\n",
       "    .dataframe tbody tr th {\n",
       "        vertical-align: top;\n",
       "    }\n",
       "\n",
       "    .dataframe thead th {\n",
       "        text-align: right;\n",
       "    }\n",
       "</style>\n",
       "<table border=\"1\" class=\"dataframe\">\n",
       "  <thead>\n",
       "    <tr style=\"text-align: right;\">\n",
       "      <th></th>\n",
       "      <th>The Life of David Gale (2003)</th>\n",
       "      <th>Wing Commander (1999)</th>\n",
       "      <th>Django Unchained (2012)</th>\n",
       "      <th>Alien (1979)</th>\n",
       "      <th>Indiana Jones and the Last Crusade (1989)</th>\n",
       "      <th>Snatch (2000)</th>\n",
       "      <th>Rambo: First Blood Part II (1985)</th>\n",
       "      <th>Fargo (1996)</th>\n",
       "      <th>Let the Right One In (2008)</th>\n",
       "      <th>Black Swan (2010)</th>\n",
       "      <th>...</th>\n",
       "      <th>When watching a movie I cheer or shout or talk or curse at the screen</th>\n",
       "      <th>When watching a movie I feel like the things on the screen are happening to me</th>\n",
       "      <th>As a movie unfolds I start to have problems keeping track of events that happened earlier</th>\n",
       "      <th>The emotions on the screen \"rub off\" on me - for instance if something sad is happening I get sad or if something frightening is happening I get scared</th>\n",
       "      <th>When watching a movie I get completely immersed in the alternative reality of the film</th>\n",
       "      <th>Movies change my position on social economic or political issues</th>\n",
       "      <th>When watching movies things get so intense that I have to stop watching</th>\n",
       "      <th>Gender identity (1 = female; 2 = male; 3 = self-described)</th>\n",
       "      <th>Are you an only child? (1: Yes; 0: No; -1: Did not respond)</th>\n",
       "      <th>Movies are best enjoyed alone (1: Yes; 0: No; -1: Did not respond)</th>\n",
       "    </tr>\n",
       "  </thead>\n",
       "  <tbody>\n",
       "    <tr>\n",
       "      <th>0</th>\n",
       "      <td>NaN</td>\n",
       "      <td>NaN</td>\n",
       "      <td>4.0</td>\n",
       "      <td>NaN</td>\n",
       "      <td>3.0</td>\n",
       "      <td>NaN</td>\n",
       "      <td>NaN</td>\n",
       "      <td>NaN</td>\n",
       "      <td>NaN</td>\n",
       "      <td>NaN</td>\n",
       "      <td>...</td>\n",
       "      <td>1.0</td>\n",
       "      <td>6.0</td>\n",
       "      <td>2.0</td>\n",
       "      <td>5.0</td>\n",
       "      <td>5.0</td>\n",
       "      <td>5.0</td>\n",
       "      <td>1.0</td>\n",
       "      <td>1.0</td>\n",
       "      <td>0</td>\n",
       "      <td>1</td>\n",
       "    </tr>\n",
       "    <tr>\n",
       "      <th>1</th>\n",
       "      <td>NaN</td>\n",
       "      <td>NaN</td>\n",
       "      <td>1.5</td>\n",
       "      <td>NaN</td>\n",
       "      <td>NaN</td>\n",
       "      <td>NaN</td>\n",
       "      <td>NaN</td>\n",
       "      <td>NaN</td>\n",
       "      <td>NaN</td>\n",
       "      <td>NaN</td>\n",
       "      <td>...</td>\n",
       "      <td>3.0</td>\n",
       "      <td>1.0</td>\n",
       "      <td>1.0</td>\n",
       "      <td>6.0</td>\n",
       "      <td>5.0</td>\n",
       "      <td>3.0</td>\n",
       "      <td>2.0</td>\n",
       "      <td>1.0</td>\n",
       "      <td>0</td>\n",
       "      <td>0</td>\n",
       "    </tr>\n",
       "    <tr>\n",
       "      <th>2</th>\n",
       "      <td>NaN</td>\n",
       "      <td>NaN</td>\n",
       "      <td>NaN</td>\n",
       "      <td>NaN</td>\n",
       "      <td>NaN</td>\n",
       "      <td>NaN</td>\n",
       "      <td>NaN</td>\n",
       "      <td>NaN</td>\n",
       "      <td>NaN</td>\n",
       "      <td>NaN</td>\n",
       "      <td>...</td>\n",
       "      <td>5.0</td>\n",
       "      <td>4.0</td>\n",
       "      <td>3.0</td>\n",
       "      <td>5.0</td>\n",
       "      <td>5.0</td>\n",
       "      <td>4.0</td>\n",
       "      <td>4.0</td>\n",
       "      <td>1.0</td>\n",
       "      <td>1</td>\n",
       "      <td>0</td>\n",
       "    </tr>\n",
       "  </tbody>\n",
       "</table>\n",
       "<p>3 rows × 477 columns</p>\n",
       "</div>"
      ],
      "text/plain": [
       "   The Life of David Gale (2003)  Wing Commander (1999)  \\\n",
       "0                            NaN                    NaN   \n",
       "1                            NaN                    NaN   \n",
       "2                            NaN                    NaN   \n",
       "\n",
       "   Django Unchained (2012)  Alien (1979)  \\\n",
       "0                      4.0           NaN   \n",
       "1                      1.5           NaN   \n",
       "2                      NaN           NaN   \n",
       "\n",
       "   Indiana Jones and the Last Crusade (1989)  Snatch (2000)  \\\n",
       "0                                        3.0            NaN   \n",
       "1                                        NaN            NaN   \n",
       "2                                        NaN            NaN   \n",
       "\n",
       "   Rambo: First Blood Part II (1985)  Fargo (1996)  \\\n",
       "0                                NaN           NaN   \n",
       "1                                NaN           NaN   \n",
       "2                                NaN           NaN   \n",
       "\n",
       "   Let the Right One In (2008)  Black Swan (2010)  ...  \\\n",
       "0                          NaN                NaN  ...   \n",
       "1                          NaN                NaN  ...   \n",
       "2                          NaN                NaN  ...   \n",
       "\n",
       "   When watching a movie I cheer or shout or talk or curse at the screen  \\\n",
       "0                                                1.0                       \n",
       "1                                                3.0                       \n",
       "2                                                5.0                       \n",
       "\n",
       "   When watching a movie I feel like the things on the screen are happening to me  \\\n",
       "0                                                6.0                                \n",
       "1                                                1.0                                \n",
       "2                                                4.0                                \n",
       "\n",
       "   As a movie unfolds I start to have problems keeping track of events that happened earlier  \\\n",
       "0                                                2.0                                           \n",
       "1                                                1.0                                           \n",
       "2                                                3.0                                           \n",
       "\n",
       "   The emotions on the screen \"rub off\" on me - for instance if something sad is happening I get sad or if something frightening is happening I get scared  \\\n",
       "0                                                5.0                                                                                                         \n",
       "1                                                6.0                                                                                                         \n",
       "2                                                5.0                                                                                                         \n",
       "\n",
       "   When watching a movie I get completely immersed in the alternative reality of the film  \\\n",
       "0                                                5.0                                        \n",
       "1                                                5.0                                        \n",
       "2                                                5.0                                        \n",
       "\n",
       "   Movies change my position on social economic or political issues  \\\n",
       "0                                                5.0                  \n",
       "1                                                3.0                  \n",
       "2                                                4.0                  \n",
       "\n",
       "   When watching movies things get so intense that I have to stop watching  \\\n",
       "0                                                1.0                         \n",
       "1                                                2.0                         \n",
       "2                                                4.0                         \n",
       "\n",
       "   Gender identity (1 = female; 2 = male; 3 = self-described)  \\\n",
       "0                                                1.0            \n",
       "1                                                1.0            \n",
       "2                                                1.0            \n",
       "\n",
       "   Are you an only child? (1: Yes; 0: No; -1: Did not respond)  \\\n",
       "0                                                  0             \n",
       "1                                                  0             \n",
       "2                                                  1             \n",
       "\n",
       "   Movies are best enjoyed alone (1: Yes; 0: No; -1: Did not respond)  \n",
       "0                                                  1                   \n",
       "1                                                  0                   \n",
       "2                                                  0                   \n",
       "\n",
       "[3 rows x 477 columns]"
      ]
     },
     "execution_count": 2,
     "metadata": {},
     "output_type": "execute_result"
    }
   ],
   "source": [
    "df.head(3)"
   ]
  },
  {
   "cell_type": "code",
   "execution_count": 3,
   "id": "e61be778-fd8c-40ec-8d0e-8bfc757a0f43",
   "metadata": {
    "tags": []
   },
   "outputs": [
    {
     "data": {
      "text/html": [
       "<div>\n",
       "<style scoped>\n",
       "    .dataframe tbody tr th:only-of-type {\n",
       "        vertical-align: middle;\n",
       "    }\n",
       "\n",
       "    .dataframe tbody tr th {\n",
       "        vertical-align: top;\n",
       "    }\n",
       "\n",
       "    .dataframe thead th {\n",
       "        text-align: right;\n",
       "    }\n",
       "</style>\n",
       "<table border=\"1\" class=\"dataframe\">\n",
       "  <thead>\n",
       "    <tr style=\"text-align: right;\">\n",
       "      <th></th>\n",
       "      <th>Gender identity (1 = female; 2 = male; 3 = self-described)</th>\n",
       "      <th>Are you an only child? (1: Yes; 0: No; -1: Did not respond)</th>\n",
       "      <th>Movies are best enjoyed alone (1: Yes; 0: No; -1: Did not respond)</th>\n",
       "    </tr>\n",
       "  </thead>\n",
       "  <tbody>\n",
       "    <tr>\n",
       "      <th>0</th>\n",
       "      <td>1.0</td>\n",
       "      <td>0</td>\n",
       "      <td>1</td>\n",
       "    </tr>\n",
       "    <tr>\n",
       "      <th>1</th>\n",
       "      <td>1.0</td>\n",
       "      <td>0</td>\n",
       "      <td>0</td>\n",
       "    </tr>\n",
       "    <tr>\n",
       "      <th>2</th>\n",
       "      <td>1.0</td>\n",
       "      <td>1</td>\n",
       "      <td>0</td>\n",
       "    </tr>\n",
       "  </tbody>\n",
       "</table>\n",
       "</div>"
      ],
      "text/plain": [
       "   Gender identity (1 = female; 2 = male; 3 = self-described)  \\\n",
       "0                                                1.0            \n",
       "1                                                1.0            \n",
       "2                                                1.0            \n",
       "\n",
       "   Are you an only child? (1: Yes; 0: No; -1: Did not respond)  \\\n",
       "0                                                  0             \n",
       "1                                                  0             \n",
       "2                                                  1             \n",
       "\n",
       "   Movies are best enjoyed alone (1: Yes; 0: No; -1: Did not respond)  \n",
       "0                                                  1                   \n",
       "1                                                  0                   \n",
       "2                                                  0                   "
      ]
     },
     "execution_count": 3,
     "metadata": {},
     "output_type": "execute_result"
    }
   ],
   "source": [
    "df.iloc[:, 474:].head(3)"
   ]
  },
  {
   "cell_type": "markdown",
   "id": "42bc44d1-57bf-4991-8299-f0e442b82746",
   "metadata": {},
   "source": [
    "#### Q1 Are movies that are more popular (operationalized as having more ratings) rated higher than movies that are less popular? [Hint: You can do a median-split of popularity to determine high vs. low popularity movies]"
   ]
  },
  {
   "cell_type": "code",
   "execution_count": 4,
   "id": "9f0e5e12-8079-49d4-949e-236949bdabef",
   "metadata": {
    "tags": []
   },
   "outputs": [
    {
     "data": {
      "text/html": [
       "<div>\n",
       "<style scoped>\n",
       "    .dataframe tbody tr th:only-of-type {\n",
       "        vertical-align: middle;\n",
       "    }\n",
       "\n",
       "    .dataframe tbody tr th {\n",
       "        vertical-align: top;\n",
       "    }\n",
       "\n",
       "    .dataframe thead th {\n",
       "        text-align: right;\n",
       "    }\n",
       "</style>\n",
       "<table border=\"1\" class=\"dataframe\">\n",
       "  <thead>\n",
       "    <tr style=\"text-align: right;\">\n",
       "      <th></th>\n",
       "      <th>The Life of David Gale (2003)</th>\n",
       "      <th>Wing Commander (1999)</th>\n",
       "      <th>Snatch (2000)</th>\n",
       "      <th>Rambo: First Blood Part II (1985)</th>\n",
       "      <th>Let the Right One In (2008)</th>\n",
       "      <th>The Machinist (2004)</th>\n",
       "      <th>Brazil (1985)</th>\n",
       "      <th>Change of Habit (1969)</th>\n",
       "      <th>Night of the Living Dead (1968)</th>\n",
       "      <th>Man on Fire (2004)</th>\n",
       "      <th>...</th>\n",
       "      <th>On Golden Pond (1981)</th>\n",
       "      <th>The Descent (2005)</th>\n",
       "      <th>Runaway Bride (1999)</th>\n",
       "      <th>Gods and Generals (2003)</th>\n",
       "      <th>My Father and My Son (2005)</th>\n",
       "      <th>The Usual Suspects (1995)</th>\n",
       "      <th>Patton (1970)</th>\n",
       "      <th>Twister (1996)</th>\n",
       "      <th>MacArthur (1977)</th>\n",
       "      <th>Look Who's Talking (1989)</th>\n",
       "    </tr>\n",
       "  </thead>\n",
       "  <tbody>\n",
       "    <tr>\n",
       "      <th>0</th>\n",
       "      <td>NaN</td>\n",
       "      <td>NaN</td>\n",
       "      <td>NaN</td>\n",
       "      <td>NaN</td>\n",
       "      <td>NaN</td>\n",
       "      <td>NaN</td>\n",
       "      <td>NaN</td>\n",
       "      <td>NaN</td>\n",
       "      <td>NaN</td>\n",
       "      <td>NaN</td>\n",
       "      <td>...</td>\n",
       "      <td>NaN</td>\n",
       "      <td>NaN</td>\n",
       "      <td>NaN</td>\n",
       "      <td>NaN</td>\n",
       "      <td>NaN</td>\n",
       "      <td>NaN</td>\n",
       "      <td>NaN</td>\n",
       "      <td>NaN</td>\n",
       "      <td>NaN</td>\n",
       "      <td>NaN</td>\n",
       "    </tr>\n",
       "    <tr>\n",
       "      <th>1</th>\n",
       "      <td>NaN</td>\n",
       "      <td>NaN</td>\n",
       "      <td>NaN</td>\n",
       "      <td>NaN</td>\n",
       "      <td>NaN</td>\n",
       "      <td>NaN</td>\n",
       "      <td>NaN</td>\n",
       "      <td>NaN</td>\n",
       "      <td>NaN</td>\n",
       "      <td>NaN</td>\n",
       "      <td>...</td>\n",
       "      <td>NaN</td>\n",
       "      <td>NaN</td>\n",
       "      <td>NaN</td>\n",
       "      <td>NaN</td>\n",
       "      <td>NaN</td>\n",
       "      <td>NaN</td>\n",
       "      <td>NaN</td>\n",
       "      <td>NaN</td>\n",
       "      <td>NaN</td>\n",
       "      <td>NaN</td>\n",
       "    </tr>\n",
       "    <tr>\n",
       "      <th>2</th>\n",
       "      <td>NaN</td>\n",
       "      <td>NaN</td>\n",
       "      <td>NaN</td>\n",
       "      <td>NaN</td>\n",
       "      <td>NaN</td>\n",
       "      <td>NaN</td>\n",
       "      <td>NaN</td>\n",
       "      <td>NaN</td>\n",
       "      <td>NaN</td>\n",
       "      <td>NaN</td>\n",
       "      <td>...</td>\n",
       "      <td>NaN</td>\n",
       "      <td>NaN</td>\n",
       "      <td>NaN</td>\n",
       "      <td>NaN</td>\n",
       "      <td>NaN</td>\n",
       "      <td>NaN</td>\n",
       "      <td>NaN</td>\n",
       "      <td>NaN</td>\n",
       "      <td>NaN</td>\n",
       "      <td>NaN</td>\n",
       "    </tr>\n",
       "    <tr>\n",
       "      <th>3</th>\n",
       "      <td>NaN</td>\n",
       "      <td>NaN</td>\n",
       "      <td>NaN</td>\n",
       "      <td>NaN</td>\n",
       "      <td>NaN</td>\n",
       "      <td>NaN</td>\n",
       "      <td>NaN</td>\n",
       "      <td>NaN</td>\n",
       "      <td>NaN</td>\n",
       "      <td>NaN</td>\n",
       "      <td>...</td>\n",
       "      <td>NaN</td>\n",
       "      <td>NaN</td>\n",
       "      <td>NaN</td>\n",
       "      <td>NaN</td>\n",
       "      <td>NaN</td>\n",
       "      <td>3.0</td>\n",
       "      <td>NaN</td>\n",
       "      <td>NaN</td>\n",
       "      <td>NaN</td>\n",
       "      <td>NaN</td>\n",
       "    </tr>\n",
       "    <tr>\n",
       "      <th>4</th>\n",
       "      <td>NaN</td>\n",
       "      <td>NaN</td>\n",
       "      <td>NaN</td>\n",
       "      <td>0.5</td>\n",
       "      <td>NaN</td>\n",
       "      <td>NaN</td>\n",
       "      <td>NaN</td>\n",
       "      <td>NaN</td>\n",
       "      <td>NaN</td>\n",
       "      <td>NaN</td>\n",
       "      <td>...</td>\n",
       "      <td>NaN</td>\n",
       "      <td>NaN</td>\n",
       "      <td>3.5</td>\n",
       "      <td>NaN</td>\n",
       "      <td>NaN</td>\n",
       "      <td>NaN</td>\n",
       "      <td>NaN</td>\n",
       "      <td>1.5</td>\n",
       "      <td>NaN</td>\n",
       "      <td>NaN</td>\n",
       "    </tr>\n",
       "  </tbody>\n",
       "</table>\n",
       "<p>5 rows × 200 columns</p>\n",
       "</div>"
      ],
      "text/plain": [
       "   The Life of David Gale (2003)  Wing Commander (1999)  Snatch (2000)  \\\n",
       "0                            NaN                    NaN            NaN   \n",
       "1                            NaN                    NaN            NaN   \n",
       "2                            NaN                    NaN            NaN   \n",
       "3                            NaN                    NaN            NaN   \n",
       "4                            NaN                    NaN            NaN   \n",
       "\n",
       "   Rambo: First Blood Part II (1985)  Let the Right One In (2008)  \\\n",
       "0                                NaN                          NaN   \n",
       "1                                NaN                          NaN   \n",
       "2                                NaN                          NaN   \n",
       "3                                NaN                          NaN   \n",
       "4                                0.5                          NaN   \n",
       "\n",
       "   The Machinist (2004)  Brazil (1985)  Change of Habit (1969)  \\\n",
       "0                   NaN            NaN                     NaN   \n",
       "1                   NaN            NaN                     NaN   \n",
       "2                   NaN            NaN                     NaN   \n",
       "3                   NaN            NaN                     NaN   \n",
       "4                   NaN            NaN                     NaN   \n",
       "\n",
       "   Night of the Living Dead (1968)  Man on Fire (2004)  ...  \\\n",
       "0                              NaN                 NaN  ...   \n",
       "1                              NaN                 NaN  ...   \n",
       "2                              NaN                 NaN  ...   \n",
       "3                              NaN                 NaN  ...   \n",
       "4                              NaN                 NaN  ...   \n",
       "\n",
       "   On Golden Pond (1981)  The Descent (2005)  Runaway Bride (1999)  \\\n",
       "0                    NaN                 NaN                   NaN   \n",
       "1                    NaN                 NaN                   NaN   \n",
       "2                    NaN                 NaN                   NaN   \n",
       "3                    NaN                 NaN                   NaN   \n",
       "4                    NaN                 NaN                   3.5   \n",
       "\n",
       "   Gods and Generals (2003)  My Father and My Son (2005)  \\\n",
       "0                       NaN                          NaN   \n",
       "1                       NaN                          NaN   \n",
       "2                       NaN                          NaN   \n",
       "3                       NaN                          NaN   \n",
       "4                       NaN                          NaN   \n",
       "\n",
       "   The Usual Suspects (1995)  Patton (1970)  Twister (1996)  MacArthur (1977)  \\\n",
       "0                        NaN            NaN             NaN               NaN   \n",
       "1                        NaN            NaN             NaN               NaN   \n",
       "2                        NaN            NaN             NaN               NaN   \n",
       "3                        3.0            NaN             NaN               NaN   \n",
       "4                        NaN            NaN             1.5               NaN   \n",
       "\n",
       "   Look Who's Talking (1989)  \n",
       "0                        NaN  \n",
       "1                        NaN  \n",
       "2                        NaN  \n",
       "3                        NaN  \n",
       "4                        NaN  \n",
       "\n",
       "[5 rows x 200 columns]"
      ]
     },
     "execution_count": 4,
     "metadata": {},
     "output_type": "execute_result"
    }
   ],
   "source": [
    "median_ratings = df.iloc[:, :400].count(axis=0).median()\n",
    "high_popularity_movies = df.iloc[:, :400].count(axis=0) >= median_ratings\n",
    "low_popularity_movies = df.iloc[:, :400].count(axis=0) < median_ratings\n",
    "high_popularity_indices = high_popularity_movies[high_popularity_movies].index\n",
    "low_popularity_indices = low_popularity_movies[low_popularity_movies].index\n",
    "high_df = df[high_popularity_indices]\n",
    "low_df = df[low_popularity_indices]\n",
    "low_df.head()"
   ]
  },
  {
   "cell_type": "code",
   "execution_count": 5,
   "id": "a1d7e93b-c41d-4d6d-86c0-610ee664eef8",
   "metadata": {
    "tags": []
   },
   "outputs": [
    {
     "data": {
      "image/png": "[encoded data removed]",
      "text/plain": [
       "<Figure size 1000x500 with 2 Axes>"
      ]
     },
     "metadata": {},
     "output_type": "display_data"
    }
   ],
   "source": [
    "import matplotlib.pyplot as plt\n",
    "import seaborn as sns\n",
    "from scipy.stats import probplot\n",
    "\n",
    "fig, axes = plt.subplots(nrows=1, ncols=2, figsize=(10, 5))\n",
    "\n",
    "#high popularity movies\n",
    "probplot(high_df.mean(axis=0).dropna(), plot=axes[0])\n",
    "axes[0].set_title('Q-Q Plot for High Popularity Movies')\n",
    "# low popularity movies\n",
    "probplot(low_df.mean(axis=0).dropna(), plot=axes[1])\n",
    "axes[1].set_title('Q-Q Plot for Low Popularity Movies')\n",
    "\n",
    "plt.tight_layout()\n",
    "plt.savefig('q1_qq_plots.png')\n",
    "plt.show()"
   ]
  },
  {
   "cell_type": "code",
   "execution_count": 6,
   "id": "b993ebd0-6549-440a-a860-b41a43102133",
   "metadata": {
    "tags": []
   },
   "outputs": [
    {
     "data": {
      "text/plain": [
       "(17.7560492698737, 2.2696530276564846e-52)"
      ]
     },
     "execution_count": 6,
     "metadata": {},
     "output_type": "execute_result"
    }
   ],
   "source": [
    "from scipy.stats import ttest_ind\n",
    "high_avg_ratings = high_df.mean(axis=0).dropna()\n",
    "low_avg_ratings = low_df.mean(axis=0).dropna()\n",
    "\n",
    "t_stat, p_value = ttest_ind(high_avg_ratings, low_avg_ratings)\n",
    "t_stat, p_value"
   ]
  },
  {
   "cell_type": "code",
   "execution_count": 7,
   "id": "1730ae03-96ff-4a18-bd4b-c7a8a0cc3e89",
   "metadata": {
    "tags": []
   },
   "outputs": [
    {
     "data": {
      "image/png": "[encoded data removed]",
      "text/plain": [
       "<Figure size 800x600 with 1 Axes>"
      ]
     },
     "metadata": {},
     "output_type": "display_data"
    }
   ],
   "source": [
    "fig, ax = plt.subplots(figsize=(8, 6))\n",
    "\n",
    "\n",
    "sns.histplot(high_avg_ratings, kde=True, color='blue', label='High Popularity', ax=ax)\n",
    "sns.histplot(low_avg_ratings, kde=True, color='red', label='Low Popularity', ax=ax)\n",
    "\n",
    "ax.legend()\n",
    "ax.set_title('Distribution of Average Ratings for High and Low Popularity Movies')\n",
    "ax.set_xlabel('Average Rating')\n",
    "ax.set_ylabel('Frequency')\n",
    "plt.savefig('q1_distribution_plots.png')\n",
    "plt.show()"
   ]
  },
  {
   "cell_type": "markdown",
   "id": "a651eae3-3507-4bcb-87fa-e9ba6a1b2378",
   "metadata": {},
   "source": [
    "#### Question 2 Are movies that are newer rated differently than movies that are older? [Hint: Do a median split of year of release to contrast movies in terms of whether they are old or new]"
   ]
  },
  {
   "cell_type": "code",
   "execution_count": 8,
   "id": "57dc54bf-2286-4bd6-8450-49d34f9a4391",
   "metadata": {
    "tags": []
   },
   "outputs": [],
   "source": [
    "years = df.columns[:400].str.extract(r'\\((\\d{4})\\)')[0].astype(float)\n",
    "median_year = years.median()\n",
    "new_movies = years >= median_year\n",
    "old_movies = years < median_year\n",
    "\n",
    "\n",
    "new_movies_indices = new_movies[new_movies].index\n",
    "old_movies_indices = old_movies[old_movies].index\n",
    "new_movies_titles = df.columns[new_movies_indices]\n",
    "old_movies_titles = df.columns[old_movies_indices]\n",
    "new_df = df[new_movies_titles]\n",
    "old_df = df[old_movies_titles]"
   ]
  },
  {
   "cell_type": "code",
   "execution_count": 9,
   "id": "812038de-de6a-440f-9bc6-a182b311d19d",
   "metadata": {
    "tags": []
   },
   "outputs": [
    {
     "data": {
      "image/png": "[encoded data removed]",
      "text/plain": [
       "<Figure size 1000x500 with 2 Axes>"
      ]
     },
     "metadata": {},
     "output_type": "display_data"
    }
   ],
   "source": [
    "fig, axes = plt.subplots(nrows=1, ncols=2, figsize=(10, 5))\n",
    "\n",
    "probplot(new_df.mean(axis=0).dropna(), plot=axes[0])\n",
    "axes[0].set_title('Q-Q Plot for New Movies')\n",
    "\n",
    "probplot(old_df.mean(axis=0).dropna(), plot=axes[1])\n",
    "axes[1].set_title('Q-Q Plot for Old Movies')\n",
    "plt.tight_layout()\n",
    "plt.savefig('q2_qq_plots.png')\n",
    "plt.show()\n"
   ]
  },
  {
   "cell_type": "code",
   "execution_count": 10,
   "id": "48d3b5e9-a4e6-4345-87f2-eb989124f6e4",
   "metadata": {
    "tags": []
   },
   "outputs": [
    {
     "data": {
      "image/png": "[encoded data removed]",
      "text/plain": [
       "<Figure size 800x600 with 1 Axes>"
      ]
     },
     "metadata": {},
     "output_type": "display_data"
    }
   ],
   "source": [
    "# Boxplot for average ratings comparison\n",
    "fig, ax = plt.subplots(figsize=(8, 6))\n",
    "\n",
    "data = [new_df.mean(axis=0).dropna(), old_df.mean(axis=0).dropna()]\n",
    "labels = ['New Movies', 'Old Movies']\n",
    "\n",
    "ax.boxplot(data, labels=labels)\n",
    "ax.set_title('Boxplot for Average Ratings of New and Old Movies')\n",
    "plt.savefig('q2_boxplot.png')\n",
    "plt.show()"
   ]
  },
  {
   "cell_type": "code",
   "execution_count": 11,
   "id": "6199e3e5-12f5-4027-b897-96ec08a83ce7",
   "metadata": {
    "tags": []
   },
   "outputs": [
    {
     "data": {
      "text/plain": [
       "(1.605479609469478, 0.1091814139798275)"
      ]
     },
     "execution_count": 11,
     "metadata": {},
     "output_type": "execute_result"
    }
   ],
   "source": [
    "t_stat, p_value = ttest_ind(new_df.mean(axis=0).dropna(), old_df.mean(axis=0).dropna())\n",
    "\n",
    "t_stat, p_value"
   ]
  },
  {
   "cell_type": "code",
   "execution_count": 12,
   "id": "6f346a7e-8fe3-425c-8072-215a65f34d1b",
   "metadata": {
    "tags": []
   },
   "outputs": [
    {
     "data": {
      "image/png": "[encoded data removed]",
      "text/plain": [
       "<Figure size 800x600 with 1 Axes>"
      ]
     },
     "metadata": {},
     "output_type": "display_data"
    }
   ],
   "source": [
    "# Plot the distributions of average ratings for new and old movies\n",
    "fig, ax = plt.subplots(figsize=(8, 6))\n",
    "\n",
    "sns.histplot(new_df.mean(axis=0).dropna(), kde=True, label='New Movies', color='blue', ax=ax)\n",
    "sns.histplot(old_df.mean(axis=0).dropna(), kde=True, label='Old Movies', color='red', ax=ax)\n",
    "\n",
    "ax.set_title('Distribution of Average Ratings for New and Old Movies')\n",
    "ax.set_xlabel('Average Rating')\n",
    "ax.set_ylabel('Frequency')\n",
    "ax.legend()\n",
    "plt.savefig('q2_distribution.png')\n",
    "plt.show()"
   ]
  },
  {
   "cell_type": "markdown",
   "id": "dda40b82-c25a-4b76-9b56-135663ccadf2",
   "metadata": {},
   "source": [
    "#### Q3 Is enjoyment of ‘Shrek (2001)’ gendered, i.e. do male and female viewers rate it differently?"
   ]
  },
  {
   "cell_type": "code",
   "execution_count": 13,
   "id": "cc850813-4b93-47c0-a042-14d11771fb34",
   "metadata": {
    "tags": []
   },
   "outputs": [
    {
     "data": {
      "text/plain": [
       "(-1.1016699726285888, 0.27087511813734183)"
      ]
     },
     "execution_count": 13,
     "metadata": {},
     "output_type": "execute_result"
    }
   ],
   "source": [
    "shrek_ratings = df['Shrek (2001)']\n",
    "gender_data = df['Gender identity (1 = female; 2 = male; 3 = self-described)']\n",
    "male_ratings = shrek_ratings[gender_data == 2].dropna()\n",
    "female_ratings = shrek_ratings[gender_data == 1].dropna()\n",
    "\n",
    "#independent two-sample t-test\n",
    "t_stat, p_value = ttest_ind(male_ratings, female_ratings)\n",
    "t_stat, p_value"
   ]
  },
  {
   "cell_type": "code",
   "execution_count": 14,
   "id": "c705b7ab-82f9-4862-b0c0-2a67f25e2697",
   "metadata": {
    "tags": []
   },
   "outputs": [
    {
     "data": {
      "image/png": "[encoded data removed]",
      "text/plain": [
       "<Figure size 800x600 with 1 Axes>"
      ]
     },
     "metadata": {},
     "output_type": "display_data"
    }
   ],
   "source": [
    "# Boxplot for average ratings comparison\n",
    "fig, ax = plt.subplots(figsize=(8, 6))\n",
    "\n",
    "data = [male_ratings, female_ratings]\n",
    "labels = ['Male', 'Female']\n",
    "\n",
    "ax.boxplot(data, labels=labels)\n",
    "ax.set_title('Boxplot for Ratings of \"Shrek (2001)\" by Gender')\n",
    "plt.savefig('q3_boxplot.png')\n",
    "plt.show()"
   ]
  },
  {
   "cell_type": "code",
   "execution_count": 15,
   "id": "c842bbf5-32c8-414c-82f3-6a2676b07818",
   "metadata": {
    "tags": []
   },
   "outputs": [
    {
     "data": {
      "image/png": "[encoded data removed]",
      "text/plain": [
       "<Figure size 1000x500 with 2 Axes>"
      ]
     },
     "metadata": {},
     "output_type": "display_data"
    }
   ],
   "source": [
    "# Q-Q plots for normality\n",
    "fig, axes = plt.subplots(nrows=1, ncols=2, figsize=(10, 5))\n",
    "probplot(male_ratings, plot=axes[0])\n",
    "axes[0].set_title('Q-Q Plot for Male Viewers')\n",
    "probplot(female_ratings, plot=axes[1])\n",
    "axes[1].set_title('Q-Q Plot for Female Viewers')\n",
    "plt.tight_layout()\n",
    "plt.savefig('q3_qq_plots.png')\n",
    "plt.show()"
   ]
  },
  {
   "cell_type": "code",
   "execution_count": 16,
   "id": "d4fadf0f-1826-4a23-b247-fe0a5993433a",
   "metadata": {
    "tags": []
   },
   "outputs": [
    {
     "name": "stdout",
     "output_type": "stream",
     "text": [
      "n_male = 241 , n_female = 743\n"
     ]
    },
    {
     "data": {
      "text/plain": [
       "982"
      ]
     },
     "execution_count": 16,
     "metadata": {},
     "output_type": "execute_result"
    }
   ],
   "source": [
    "n_male = len(male_ratings)\n",
    "n_female = len(female_ratings)\n",
    "\n",
    "d_f = n_male + n_female - 2\n",
    "print(f'n_male = {n_male} , n_female = {n_female}')\n",
    "d_f"
   ]
  },
  {
   "cell_type": "code",
   "execution_count": 17,
   "id": "e8101055-c280-4e09-a28c-59c9ed796742",
   "metadata": {
    "tags": []
   },
   "outputs": [
    {
     "data": {
      "image/png": "[encoded data removed]",
      "text/plain": [
       "<Figure size 800x600 with 1 Axes>"
      ]
     },
     "metadata": {},
     "output_type": "display_data"
    }
   ],
   "source": [
    "# Plot the histograms of ratings for 'Shrek (2001)' for male and female viewers\n",
    "fig, ax = plt.subplots(figsize=(8, 6))\n",
    "\n",
    "sns.histplot(male_ratings, kde=False, label='Male', color='blue', stat=\"density\", ax=ax)\n",
    "sns.histplot(female_ratings, kde=False, label='Female', color='red', stat=\"density\", ax=ax)\n",
    "\n",
    "ax.set_title('Histogram of Ratings for \"Shrek (2001)\" by Gender')\n",
    "ax.set_xlabel('Rating')\n",
    "ax.set_ylabel('Density')\n",
    "ax.legend()\n",
    "plt.savefig('q3_distribution.png')\n",
    "plt.show()"
   ]
  },
  {
   "cell_type": "code",
   "execution_count": 18,
   "id": "e5750c5f-8461-4c92-a12f-9d2bce5457b4",
   "metadata": {
    "tags": []
   },
   "outputs": [
    {
     "data": {
      "text/html": [
       "<div>\n",
       "<style scoped>\n",
       "    .dataframe tbody tr th:only-of-type {\n",
       "        vertical-align: middle;\n",
       "    }\n",
       "\n",
       "    .dataframe tbody tr th {\n",
       "        vertical-align: top;\n",
       "    }\n",
       "\n",
       "    .dataframe thead th {\n",
       "        text-align: right;\n",
       "    }\n",
       "</style>\n",
       "<table border=\"1\" class=\"dataframe\">\n",
       "  <thead>\n",
       "    <tr style=\"text-align: right;\">\n",
       "      <th></th>\n",
       "      <th>The Life of David Gale (2003)</th>\n",
       "      <th>Wing Commander (1999)</th>\n",
       "      <th>Django Unchained (2012)</th>\n",
       "      <th>Alien (1979)</th>\n",
       "      <th>Indiana Jones and the Last Crusade (1989)</th>\n",
       "      <th>Snatch (2000)</th>\n",
       "      <th>Rambo: First Blood Part II (1985)</th>\n",
       "      <th>Fargo (1996)</th>\n",
       "      <th>Let the Right One In (2008)</th>\n",
       "      <th>Black Swan (2010)</th>\n",
       "      <th>...</th>\n",
       "      <th>When watching a movie I cheer or shout or talk or curse at the screen</th>\n",
       "      <th>When watching a movie I feel like the things on the screen are happening to me</th>\n",
       "      <th>As a movie unfolds I start to have problems keeping track of events that happened earlier</th>\n",
       "      <th>The emotions on the screen \"rub off\" on me - for instance if something sad is happening I get sad or if something frightening is happening I get scared</th>\n",
       "      <th>When watching a movie I get completely immersed in the alternative reality of the film</th>\n",
       "      <th>Movies change my position on social economic or political issues</th>\n",
       "      <th>When watching movies things get so intense that I have to stop watching</th>\n",
       "      <th>Gender identity (1 = female; 2 = male; 3 = self-described)</th>\n",
       "      <th>Are you an only child? (1: Yes; 0: No; -1: Did not respond)</th>\n",
       "      <th>Movies are best enjoyed alone (1: Yes; 0: No; -1: Did not respond)</th>\n",
       "    </tr>\n",
       "  </thead>\n",
       "  <tbody>\n",
       "    <tr>\n",
       "      <th>0</th>\n",
       "      <td>NaN</td>\n",
       "      <td>NaN</td>\n",
       "      <td>4.0</td>\n",
       "      <td>NaN</td>\n",
       "      <td>3.0</td>\n",
       "      <td>NaN</td>\n",
       "      <td>NaN</td>\n",
       "      <td>NaN</td>\n",
       "      <td>NaN</td>\n",
       "      <td>NaN</td>\n",
       "      <td>...</td>\n",
       "      <td>1.0</td>\n",
       "      <td>6.0</td>\n",
       "      <td>2.0</td>\n",
       "      <td>5.0</td>\n",
       "      <td>5.0</td>\n",
       "      <td>5.0</td>\n",
       "      <td>1.0</td>\n",
       "      <td>1.0</td>\n",
       "      <td>0</td>\n",
       "      <td>1</td>\n",
       "    </tr>\n",
       "    <tr>\n",
       "      <th>1</th>\n",
       "      <td>NaN</td>\n",
       "      <td>NaN</td>\n",
       "      <td>1.5</td>\n",
       "      <td>NaN</td>\n",
       "      <td>NaN</td>\n",
       "      <td>NaN</td>\n",
       "      <td>NaN</td>\n",
       "      <td>NaN</td>\n",
       "      <td>NaN</td>\n",
       "      <td>NaN</td>\n",
       "      <td>...</td>\n",
       "      <td>3.0</td>\n",
       "      <td>1.0</td>\n",
       "      <td>1.0</td>\n",
       "      <td>6.0</td>\n",
       "      <td>5.0</td>\n",
       "      <td>3.0</td>\n",
       "      <td>2.0</td>\n",
       "      <td>1.0</td>\n",
       "      <td>0</td>\n",
       "      <td>0</td>\n",
       "    </tr>\n",
       "    <tr>\n",
       "      <th>2</th>\n",
       "      <td>NaN</td>\n",
       "      <td>NaN</td>\n",
       "      <td>NaN</td>\n",
       "      <td>NaN</td>\n",
       "      <td>NaN</td>\n",
       "      <td>NaN</td>\n",
       "      <td>NaN</td>\n",
       "      <td>NaN</td>\n",
       "      <td>NaN</td>\n",
       "      <td>NaN</td>\n",
       "      <td>...</td>\n",
       "      <td>5.0</td>\n",
       "      <td>4.0</td>\n",
       "      <td>3.0</td>\n",
       "      <td>5.0</td>\n",
       "      <td>5.0</td>\n",
       "      <td>4.0</td>\n",
       "      <td>4.0</td>\n",
       "      <td>1.0</td>\n",
       "      <td>1</td>\n",
       "      <td>0</td>\n",
       "    </tr>\n",
       "    <tr>\n",
       "      <th>3</th>\n",
       "      <td>NaN</td>\n",
       "      <td>NaN</td>\n",
       "      <td>2.0</td>\n",
       "      <td>NaN</td>\n",
       "      <td>3.0</td>\n",
       "      <td>NaN</td>\n",
       "      <td>NaN</td>\n",
       "      <td>NaN</td>\n",
       "      <td>NaN</td>\n",
       "      <td>4.0</td>\n",
       "      <td>...</td>\n",
       "      <td>3.0</td>\n",
       "      <td>1.0</td>\n",
       "      <td>1.0</td>\n",
       "      <td>4.0</td>\n",
       "      <td>5.0</td>\n",
       "      <td>3.0</td>\n",
       "      <td>1.0</td>\n",
       "      <td>1.0</td>\n",
       "      <td>0</td>\n",
       "      <td>1</td>\n",
       "    </tr>\n",
       "    <tr>\n",
       "      <th>4</th>\n",
       "      <td>NaN</td>\n",
       "      <td>NaN</td>\n",
       "      <td>3.5</td>\n",
       "      <td>NaN</td>\n",
       "      <td>0.5</td>\n",
       "      <td>NaN</td>\n",
       "      <td>0.5</td>\n",
       "      <td>1.0</td>\n",
       "      <td>NaN</td>\n",
       "      <td>0.0</td>\n",
       "      <td>...</td>\n",
       "      <td>2.0</td>\n",
       "      <td>3.0</td>\n",
       "      <td>2.0</td>\n",
       "      <td>5.0</td>\n",
       "      <td>6.0</td>\n",
       "      <td>4.0</td>\n",
       "      <td>4.0</td>\n",
       "      <td>1.0</td>\n",
       "      <td>1</td>\n",
       "      <td>1</td>\n",
       "    </tr>\n",
       "    <tr>\n",
       "      <th>...</th>\n",
       "      <td>...</td>\n",
       "      <td>...</td>\n",
       "      <td>...</td>\n",
       "      <td>...</td>\n",
       "      <td>...</td>\n",
       "      <td>...</td>\n",
       "      <td>...</td>\n",
       "      <td>...</td>\n",
       "      <td>...</td>\n",
       "      <td>...</td>\n",
       "      <td>...</td>\n",
       "      <td>...</td>\n",
       "      <td>...</td>\n",
       "      <td>...</td>\n",
       "      <td>...</td>\n",
       "      <td>...</td>\n",
       "      <td>...</td>\n",
       "      <td>...</td>\n",
       "      <td>...</td>\n",
       "      <td>...</td>\n",
       "      <td>...</td>\n",
       "    </tr>\n",
       "    <tr>\n",
       "      <th>1092</th>\n",
       "      <td>NaN</td>\n",
       "      <td>NaN</td>\n",
       "      <td>NaN</td>\n",
       "      <td>NaN</td>\n",
       "      <td>3.5</td>\n",
       "      <td>NaN</td>\n",
       "      <td>NaN</td>\n",
       "      <td>NaN</td>\n",
       "      <td>NaN</td>\n",
       "      <td>NaN</td>\n",
       "      <td>...</td>\n",
       "      <td>3.0</td>\n",
       "      <td>4.0</td>\n",
       "      <td>3.0</td>\n",
       "      <td>5.0</td>\n",
       "      <td>5.0</td>\n",
       "      <td>4.0</td>\n",
       "      <td>4.0</td>\n",
       "      <td>1.0</td>\n",
       "      <td>0</td>\n",
       "      <td>0</td>\n",
       "    </tr>\n",
       "    <tr>\n",
       "      <th>1093</th>\n",
       "      <td>3.0</td>\n",
       "      <td>4.0</td>\n",
       "      <td>NaN</td>\n",
       "      <td>NaN</td>\n",
       "      <td>4.0</td>\n",
       "      <td>4.0</td>\n",
       "      <td>2.5</td>\n",
       "      <td>NaN</td>\n",
       "      <td>3.5</td>\n",
       "      <td>3.5</td>\n",
       "      <td>...</td>\n",
       "      <td>5.0</td>\n",
       "      <td>3.0</td>\n",
       "      <td>5.0</td>\n",
       "      <td>5.0</td>\n",
       "      <td>5.0</td>\n",
       "      <td>6.0</td>\n",
       "      <td>5.0</td>\n",
       "      <td>1.0</td>\n",
       "      <td>0</td>\n",
       "      <td>0</td>\n",
       "    </tr>\n",
       "    <tr>\n",
       "      <th>1094</th>\n",
       "      <td>NaN</td>\n",
       "      <td>NaN</td>\n",
       "      <td>NaN</td>\n",
       "      <td>NaN</td>\n",
       "      <td>NaN</td>\n",
       "      <td>NaN</td>\n",
       "      <td>NaN</td>\n",
       "      <td>3.5</td>\n",
       "      <td>NaN</td>\n",
       "      <td>NaN</td>\n",
       "      <td>...</td>\n",
       "      <td>6.0</td>\n",
       "      <td>3.0</td>\n",
       "      <td>1.0</td>\n",
       "      <td>6.0</td>\n",
       "      <td>6.0</td>\n",
       "      <td>4.0</td>\n",
       "      <td>2.0</td>\n",
       "      <td>1.0</td>\n",
       "      <td>0</td>\n",
       "      <td>0</td>\n",
       "    </tr>\n",
       "    <tr>\n",
       "      <th>1095</th>\n",
       "      <td>NaN</td>\n",
       "      <td>NaN</td>\n",
       "      <td>NaN</td>\n",
       "      <td>NaN</td>\n",
       "      <td>NaN</td>\n",
       "      <td>NaN</td>\n",
       "      <td>NaN</td>\n",
       "      <td>NaN</td>\n",
       "      <td>NaN</td>\n",
       "      <td>NaN</td>\n",
       "      <td>...</td>\n",
       "      <td>1.0</td>\n",
       "      <td>1.0</td>\n",
       "      <td>1.0</td>\n",
       "      <td>4.0</td>\n",
       "      <td>3.0</td>\n",
       "      <td>3.0</td>\n",
       "      <td>1.0</td>\n",
       "      <td>1.0</td>\n",
       "      <td>0</td>\n",
       "      <td>1</td>\n",
       "    </tr>\n",
       "    <tr>\n",
       "      <th>1096</th>\n",
       "      <td>NaN</td>\n",
       "      <td>NaN</td>\n",
       "      <td>4.0</td>\n",
       "      <td>NaN</td>\n",
       "      <td>2.5</td>\n",
       "      <td>NaN</td>\n",
       "      <td>NaN</td>\n",
       "      <td>3.0</td>\n",
       "      <td>NaN</td>\n",
       "      <td>3.5</td>\n",
       "      <td>...</td>\n",
       "      <td>3.0</td>\n",
       "      <td>4.0</td>\n",
       "      <td>1.0</td>\n",
       "      <td>4.0</td>\n",
       "      <td>4.0</td>\n",
       "      <td>4.0</td>\n",
       "      <td>1.0</td>\n",
       "      <td>1.0</td>\n",
       "      <td>0</td>\n",
       "      <td>1</td>\n",
       "    </tr>\n",
       "  </tbody>\n",
       "</table>\n",
       "<p>1097 rows × 477 columns</p>\n",
       "</div>"
      ],
      "text/plain": [
       "      The Life of David Gale (2003)  Wing Commander (1999)  \\\n",
       "0                               NaN                    NaN   \n",
       "1                               NaN                    NaN   \n",
       "2                               NaN                    NaN   \n",
       "3                               NaN                    NaN   \n",
       "4                               NaN                    NaN   \n",
       "...                             ...                    ...   \n",
       "1092                            NaN                    NaN   \n",
       "1093                            3.0                    4.0   \n",
       "1094                            NaN                    NaN   \n",
       "1095                            NaN                    NaN   \n",
       "1096                            NaN                    NaN   \n",
       "\n",
       "      Django Unchained (2012)  Alien (1979)  \\\n",
       "0                         4.0           NaN   \n",
       "1                         1.5           NaN   \n",
       "2                         NaN           NaN   \n",
       "3                         2.0           NaN   \n",
       "4                         3.5           NaN   \n",
       "...                       ...           ...   \n",
       "1092                      NaN           NaN   \n",
       "1093                      NaN           NaN   \n",
       "1094                      NaN           NaN   \n",
       "1095                      NaN           NaN   \n",
       "1096                      4.0           NaN   \n",
       "\n",
       "      Indiana Jones and the Last Crusade (1989)  Snatch (2000)  \\\n",
       "0                                           3.0            NaN   \n",
       "1                                           NaN            NaN   \n",
       "2                                           NaN            NaN   \n",
       "3                                           3.0            NaN   \n",
       "4                                           0.5            NaN   \n",
       "...                                         ...            ...   \n",
       "1092                                        3.5            NaN   \n",
       "1093                                        4.0            4.0   \n",
       "1094                                        NaN            NaN   \n",
       "1095                                        NaN            NaN   \n",
       "1096                                        2.5            NaN   \n",
       "\n",
       "      Rambo: First Blood Part II (1985)  Fargo (1996)  \\\n",
       "0                                   NaN           NaN   \n",
       "1                                   NaN           NaN   \n",
       "2                                   NaN           NaN   \n",
       "3                                   NaN           NaN   \n",
       "4                                   0.5           1.0   \n",
       "...                                 ...           ...   \n",
       "1092                                NaN           NaN   \n",
       "1093                                2.5           NaN   \n",
       "1094                                NaN           3.5   \n",
       "1095                                NaN           NaN   \n",
       "1096                                NaN           3.0   \n",
       "\n",
       "      Let the Right One In (2008)  Black Swan (2010)  ...  \\\n",
       "0                             NaN                NaN  ...   \n",
       "1                             NaN                NaN  ...   \n",
       "2                             NaN                NaN  ...   \n",
       "3                             NaN                4.0  ...   \n",
       "4                             NaN                0.0  ...   \n",
       "...                           ...                ...  ...   \n",
       "1092                          NaN                NaN  ...   \n",
       "1093                          3.5                3.5  ...   \n",
       "1094                          NaN                NaN  ...   \n",
       "1095                          NaN                NaN  ...   \n",
       "1096                          NaN                3.5  ...   \n",
       "\n",
       "      When watching a movie I cheer or shout or talk or curse at the screen  \\\n",
       "0                                                   1.0                       \n",
       "1                                                   3.0                       \n",
       "2                                                   5.0                       \n",
       "3                                                   3.0                       \n",
       "4                                                   2.0                       \n",
       "...                                                 ...                       \n",
       "1092                                                3.0                       \n",
       "1093                                                5.0                       \n",
       "1094                                                6.0                       \n",
       "1095                                                1.0                       \n",
       "1096                                                3.0                       \n",
       "\n",
       "      When watching a movie I feel like the things on the screen are happening to me  \\\n",
       "0                                                   6.0                                \n",
       "1                                                   1.0                                \n",
       "2                                                   4.0                                \n",
       "3                                                   1.0                                \n",
       "4                                                   3.0                                \n",
       "...                                                 ...                                \n",
       "1092                                                4.0                                \n",
       "1093                                                3.0                                \n",
       "1094                                                3.0                                \n",
       "1095                                                1.0                                \n",
       "1096                                                4.0                                \n",
       "\n",
       "      As a movie unfolds I start to have problems keeping track of events that happened earlier  \\\n",
       "0                                                   2.0                                           \n",
       "1                                                   1.0                                           \n",
       "2                                                   3.0                                           \n",
       "3                                                   1.0                                           \n",
       "4                                                   2.0                                           \n",
       "...                                                 ...                                           \n",
       "1092                                                3.0                                           \n",
       "1093                                                5.0                                           \n",
       "1094                                                1.0                                           \n",
       "1095                                                1.0                                           \n",
       "1096                                                1.0                                           \n",
       "\n",
       "      The emotions on the screen \"rub off\" on me - for instance if something sad is happening I get sad or if something frightening is happening I get scared  \\\n",
       "0                                                   5.0                                                                                                         \n",
       "1                                                   6.0                                                                                                         \n",
       "2                                                   5.0                                                                                                         \n",
       "3                                                   4.0                                                                                                         \n",
       "4                                                   5.0                                                                                                         \n",
       "...                                                 ...                                                                                                         \n",
       "1092                                                5.0                                                                                                         \n",
       "1093                                                5.0                                                                                                         \n",
       "1094                                                6.0                                                                                                         \n",
       "1095                                                4.0                                                                                                         \n",
       "1096                                                4.0                                                                                                         \n",
       "\n",
       "      When watching a movie I get completely immersed in the alternative reality of the film  \\\n",
       "0                                                   5.0                                        \n",
       "1                                                   5.0                                        \n",
       "2                                                   5.0                                        \n",
       "3                                                   5.0                                        \n",
       "4                                                   6.0                                        \n",
       "...                                                 ...                                        \n",
       "1092                                                5.0                                        \n",
       "1093                                                5.0                                        \n",
       "1094                                                6.0                                        \n",
       "1095                                                3.0                                        \n",
       "1096                                                4.0                                        \n",
       "\n",
       "      Movies change my position on social economic or political issues  \\\n",
       "0                                                   5.0                  \n",
       "1                                                   3.0                  \n",
       "2                                                   4.0                  \n",
       "3                                                   3.0                  \n",
       "4                                                   4.0                  \n",
       "...                                                 ...                  \n",
       "1092                                                4.0                  \n",
       "1093                                                6.0                  \n",
       "1094                                                4.0                  \n",
       "1095                                                3.0                  \n",
       "1096                                                4.0                  \n",
       "\n",
       "      When watching movies things get so intense that I have to stop watching  \\\n",
       "0                                                   1.0                         \n",
       "1                                                   2.0                         \n",
       "2                                                   4.0                         \n",
       "3                                                   1.0                         \n",
       "4                                                   4.0                         \n",
       "...                                                 ...                         \n",
       "1092                                                4.0                         \n",
       "1093                                                5.0                         \n",
       "1094                                                2.0                         \n",
       "1095                                                1.0                         \n",
       "1096                                                1.0                         \n",
       "\n",
       "      Gender identity (1 = female; 2 = male; 3 = self-described)  \\\n",
       "0                                                   1.0            \n",
       "1                                                   1.0            \n",
       "2                                                   1.0            \n",
       "3                                                   1.0            \n",
       "4                                                   1.0            \n",
       "...                                                 ...            \n",
       "1092                                                1.0            \n",
       "1093                                                1.0            \n",
       "1094                                                1.0            \n",
       "1095                                                1.0            \n",
       "1096                                                1.0            \n",
       "\n",
       "      Are you an only child? (1: Yes; 0: No; -1: Did not respond)  \\\n",
       "0                                                     0             \n",
       "1                                                     0             \n",
       "2                                                     1             \n",
       "3                                                     0             \n",
       "4                                                     1             \n",
       "...                                                 ...             \n",
       "1092                                                  0             \n",
       "1093                                                  0             \n",
       "1094                                                  0             \n",
       "1095                                                  0             \n",
       "1096                                                  0             \n",
       "\n",
       "      Movies are best enjoyed alone (1: Yes; 0: No; -1: Did not respond)  \n",
       "0                                                     1                   \n",
       "1                                                     0                   \n",
       "2                                                     0                   \n",
       "3                                                     1                   \n",
       "4                                                     1                   \n",
       "...                                                 ...                   \n",
       "1092                                                  0                   \n",
       "1093                                                  0                   \n",
       "1094                                                  0                   \n",
       "1095                                                  1                   \n",
       "1096                                                  1                   \n",
       "\n",
       "[1097 rows x 477 columns]"
      ]
     },
     "execution_count": 18,
     "metadata": {},
     "output_type": "execute_result"
    }
   ],
   "source": [
    "df"
   ]
  },
  {
   "cell_type": "markdown",
   "id": "01f715b7-6d6c-4191-91a6-b872af25039a",
   "metadata": {},
   "source": [
    "#### Q4 What proportion of movies are rated differently by male and female viewers?"
   ]
  },
  {
   "cell_type": "code",
   "execution_count": 19,
   "id": "2dbdf06d-80bf-49b3-a878-ddc6f01b054e",
   "metadata": {
    "tags": []
   },
   "outputs": [
    {
     "data": {
      "text/plain": [
       "(0.0275,\n",
       " ['13 Going on 30 (2004)',\n",
       "  'The Proposal (2009)',\n",
       "  'Ghostbusters (2016)',\n",
       "  '10 Things I Hate About You (1999)',\n",
       "  'Beauty and the Beauty (1991)',\n",
       "  'Grease (1978)',\n",
       "  'Harry Potter and the Deathly Hallows: Part 2 (2011)',\n",
       "  'Chicago (2002)',\n",
       "  'Bend it Like Beckham (2002)',\n",
       "  'The Wolf of Wall Street (2013)'])"
      ]
     },
     "execution_count": 19,
     "metadata": {},
     "output_type": "execute_result"
    }
   ],
   "source": [
    "significant_movies = []\n",
    "\n",
    "# Adjusted significance level for multiple comparisons (Bonferroni correction)\n",
    "alpha = 0.005 / 400\n",
    "\n",
    "for movie in df.columns[:400]:\n",
    "\n",
    "    movie_ratings = df[movie]\n",
    "    male_ratings = movie_ratings[gender_data == 2].dropna()\n",
    "    female_ratings = movie_ratings[gender_data == 1].dropna()\n",
    "    \n",
    "    if len(male_ratings) > 0 and len(female_ratings) > 0:\n",
    "        t_stat, p_value = ttest_ind(male_ratings, female_ratings)\n",
    "        \n",
    "        if p_value < alpha:\n",
    "            significant_movies.append(movie)\n",
    "\n",
    "proportion_different = len(significant_movies) / 400\n",
    "proportion_different, significant_movies[:10]  "
   ]
  },
  {
   "cell_type": "code",
   "execution_count": 20,
   "id": "f9b96357-b6e5-4265-88d4-15b30fb6413e",
   "metadata": {
    "tags": []
   },
   "outputs": [
    {
     "data": {
      "text/plain": [
       "11"
      ]
     },
     "execution_count": 20,
     "metadata": {},
     "output_type": "execute_result"
    }
   ],
   "source": [
    "len(significant_movies)"
   ]
  },
  {
   "cell_type": "code",
   "execution_count": 21,
   "id": "2c994509-ea24-4adc-8f8d-66469b2a4b0f",
   "metadata": {
    "tags": []
   },
   "outputs": [
    {
     "data": {
      "text/plain": [
       "(0.115,\n",
       " ['Django Unchained (2012)',\n",
       "  'Alien (1979)',\n",
       "  'Star Wars: Episode IV - A New Hope (1977)',\n",
       "  '13 Going on 30 (2004)',\n",
       "  'Sorority Boys (2002)',\n",
       "  'Inglorious Bastards (2009)',\n",
       "  'Clueless (1995)',\n",
       "  'The Exorcist (1973)',\n",
       "  'Funny Girl (1968)',\n",
       "  'The Thing (1982)'])"
      ]
     },
     "execution_count": 21,
     "metadata": {},
     "output_type": "execute_result"
    }
   ],
   "source": [
    "significant_movies = []\n",
    "\n",
    "# not Adjusted significance level for multiple comparisons \n",
    "alpha = 0.005\n",
    "\n",
    "for movie in df.columns[:400]:\n",
    "\n",
    "    movie_ratings = df[movie]\n",
    "    male_ratings = movie_ratings[gender_data == 2].dropna()\n",
    "    female_ratings = movie_ratings[gender_data == 1].dropna()\n",
    "    \n",
    "    if len(male_ratings) > 0 and len(female_ratings) > 0:\n",
    "        t_stat, p_value = ttest_ind(male_ratings, female_ratings)\n",
    "        \n",
    "        if p_value < alpha:\n",
    "            significant_movies.append(movie)\n",
    "\n",
    "proportion_different = len(significant_movies) / 400\n",
    "proportion_different, significant_movies[:10] "
   ]
  },
  {
   "cell_type": "markdown",
   "id": "6b40c9a7-382a-4b10-9cb4-058a3360801a",
   "metadata": {},
   "source": [
    "#### Q5 Do people who are only children enjoy ‘The Lion King (1994)’ more than people with siblings?"
   ]
  },
  {
   "cell_type": "code",
   "execution_count": 22,
   "id": "fb1bd59b-d936-49a0-9a62-22e31d3a0b92",
   "metadata": {
    "tags": []
   },
   "outputs": [
    {
     "data": {
      "text/plain": [
       "(-2.0450787705974394, 0.979436700331301)"
      ]
     },
     "execution_count": 22,
     "metadata": {},
     "output_type": "execute_result"
    }
   ],
   "source": [
    "lion_king_ratings = df['The Lion King (1994)']\n",
    "only_child_data = df['Are you an only child? (1: Yes; 0: No; -1: Did not respond)']\n",
    "only_child_ratings = lion_king_ratings[only_child_data == 1].dropna()\n",
    "with_siblings_ratings = lion_king_ratings[(only_child_data == 0) | (only_child_data == -1)].dropna()\n",
    "\n",
    "t_stat_lion_king, p_value_lion_king = ttest_ind(only_child_ratings, with_siblings_ratings, alternative = 'greater')\n",
    "t_stat_lion_king, p_value_lion_king"
   ]
  },
  {
   "cell_type": "code",
   "execution_count": 23,
   "id": "758861b5-53d1-42c9-92b7-d16b478817db",
   "metadata": {
    "tags": []
   },
   "outputs": [
    {
     "data": {
      "image/png": "[encoded data removed]",
      "text/plain": [
       "<Figure size 1000x500 with 2 Axes>"
      ]
     },
     "metadata": {},
     "output_type": "display_data"
    },
    {
     "name": "stdout",
     "output_type": "stream",
     "text": [
      "Levene's test statistic: 1.3004327241596456\n",
      "Levene's test p-value: 0.25442621663113313\n"
     ]
    }
   ],
   "source": [
    "from scipy.stats import levene, probplot\n",
    "import matplotlib.pyplot as plt\n",
    "\n",
    "# Conduct Levene's test for homoscedasticity\n",
    "levene_stat, levene_p_value = levene(only_child_ratings, with_siblings_ratings)\n",
    "\n",
    "# Q-Q plots for normality\n",
    "fig, axes = plt.subplots(nrows=1, ncols=2, figsize=(10, 5))\n",
    "\n",
    "probplot(only_child_ratings, plot=axes[0])\n",
    "axes[0].set_title('Q-Q Plot for Only Child Ratings')\n",
    "\n",
    "probplot(with_siblings_ratings, plot=axes[1])\n",
    "axes[1].set_title('Q-Q Plot for With Siblings Ratings')\n",
    "\n",
    "plt.tight_layout()\n",
    "plt.savefig('q5_qq.png')\n",
    "plt.show()\n",
    "\n",
    "\n",
    "print('Levene\\'s test statistic:', levene_stat)\n",
    "print('Levene\\'s test p-value:', levene_p_value)\n"
   ]
  },
  {
   "cell_type": "code",
   "execution_count": 24,
   "id": "86d5f6af-3f34-4ec7-8e1c-be18e151b04c",
   "metadata": {
    "tags": []
   },
   "outputs": [
    {
     "data": {
      "text/plain": [
       "935"
      ]
     },
     "execution_count": 24,
     "metadata": {},
     "output_type": "execute_result"
    }
   ],
   "source": [
    "degf = len(only_child_ratings) + len(with_siblings_ratings) - 2\n",
    "degf"
   ]
  },
  {
   "cell_type": "code",
   "execution_count": 25,
   "id": "ba14238e-50a7-4f51-9a1e-e1218705b543",
   "metadata": {
    "tags": []
   },
   "outputs": [
    {
     "data": {
      "text/plain": [
       "151"
      ]
     },
     "execution_count": 25,
     "metadata": {},
     "output_type": "execute_result"
    }
   ],
   "source": [
    "len(only_child_ratings)"
   ]
  },
  {
   "cell_type": "code",
   "execution_count": 26,
   "id": "88aa2776-c142-40a4-9a49-427533dc66f1",
   "metadata": {
    "tags": []
   },
   "outputs": [
    {
     "data": {
      "text/plain": [
       "786"
      ]
     },
     "execution_count": 26,
     "metadata": {},
     "output_type": "execute_result"
    }
   ],
   "source": [
    "len(with_siblings_ratings)"
   ]
  },
  {
   "cell_type": "markdown",
   "id": "e4361dc0-6487-4c1c-8962-145ad9fe4326",
   "metadata": {},
   "source": [
    "#### Question 6  What proportion of movies exhibit an “only child effect”, i.e. are rated different by viewers with siblings vs. those without?"
   ]
  },
  {
   "cell_type": "code",
   "execution_count": 27,
   "id": "ddf18727",
   "metadata": {},
   "outputs": [],
   "source": [
    "import numpy as np\n",
    "import pandas as pd\n",
    "from scipy.stats import bootstrap, permutation_test, mannwhitneyu, ttest_rel, normaltest, kstest, kruskal, friedmanchisquare,f_oneway"
   ]
  },
  {
   "cell_type": "code",
   "execution_count": 28,
   "id": "3f371e7f",
   "metadata": {},
   "outputs": [],
   "source": [
    "datas = pd.read_csv(\"MovieReplicationSet.csv\")"
   ]
  },
  {
   "cell_type": "code",
   "execution_count": 29,
   "id": "36da113f",
   "metadata": {},
   "outputs": [
    {
     "data": {
      "text/plain": [
       "0       0\n",
       "1       0\n",
       "2       1\n",
       "3       0\n",
       "4       1\n",
       "       ..\n",
       "1092    0\n",
       "1093    0\n",
       "1094    0\n",
       "1095    0\n",
       "1096    0\n",
       "Name: Are you an only child? (1: Yes; 0: No; -1: Did not respond), Length: 1097, dtype: int64"
      ]
     },
     "execution_count": 29,
     "metadata": {},
     "output_type": "execute_result"
    }
   ],
   "source": [
    "datas.iloc[:,475]"
   ]
  },
  {
   "cell_type": "code",
   "execution_count": 30,
   "id": "4c61c9d9",
   "metadata": {},
   "outputs": [],
   "source": [
    "#problem_6\n",
    "significant_count = 0\n",
    "for i in range(400):#iterate over each of the 400 movies\n",
    "    only_child = []\n",
    "    have_siblings = []\n",
    "    for j in range(0,1097):\n",
    "        if pd.isna(datas.iloc[j,i]) or (datas.iloc[j,475]==-1):\n",
    "            pass\n",
    "        else:#has answer in both movie rating and only child\n",
    "            if datas.iloc[j,475]==1:#only child\n",
    "                only_child.append(datas.iloc[j,i])\n",
    "            else:#have siblings\n",
    "                have_siblings.append(datas.iloc[j,i])\n",
    "    \n",
    "    #test_data = (np.array(only_child),np.array(have_siblings))\n",
    "    #p_test = permutation_test(test_data, test_stat_func, n_resamples=int(1e4), random_state=69420)  \n",
    "    pvalue = mannwhitneyu(only_child,have_siblings).pvalue\n",
    "    if pvalue<0.005:\n",
    "        significant_count+=1"
   ]
  },
  {
   "cell_type": "code",
   "execution_count": 31,
   "id": "79fd79d6",
   "metadata": {},
   "outputs": [
    {
     "data": {
      "text/plain": [
       "7"
      ]
     },
     "execution_count": 31,
     "metadata": {},
     "output_type": "execute_result"
    }
   ],
   "source": [
    "significant_count"
   ]
  },
  {
   "cell_type": "code",
   "execution_count": 32,
   "id": "39e77f65",
   "metadata": {},
   "outputs": [
    {
     "data": {
      "text/plain": [
       "0.0175"
      ]
     },
     "execution_count": 32,
     "metadata": {},
     "output_type": "execute_result"
    }
   ],
   "source": [
    "7/400"
   ]
  },
  {
   "cell_type": "markdown",
   "id": "845a4c66",
   "metadata": {},
   "source": [
    "#### Q7 Do people who like to watch movies socially enjoy ‘The Wolf of Wall Street (2013)’ more than those who prefer to watch them alone?"
   ]
  },
  {
   "cell_type": "code",
   "execution_count": 33,
   "id": "f4acbf12",
   "metadata": {},
   "outputs": [
    {
     "data": {
      "text/plain": [
       "'Movies are best enjoyed alone (1: Yes; 0: No; -1: Did not respond)'"
      ]
     },
     "execution_count": 33,
     "metadata": {},
     "output_type": "execute_result"
    }
   ],
   "source": [
    "#problem 7\n",
    "datas.columns[476]"
   ]
  },
  {
   "cell_type": "code",
   "execution_count": 34,
   "id": "07170283",
   "metadata": {},
   "outputs": [],
   "source": [
    "matrix_1 = datas.loc[:,['The Wolf of Wall Street (2013)','Movies are best enjoyed alone (1: Yes; 0: No; -1: Did not respond)']].dropna().to_numpy()"
   ]
  },
  {
   "cell_type": "code",
   "execution_count": 35,
   "id": "b6ea3d8d",
   "metadata": {},
   "outputs": [
    {
     "data": {
      "text/plain": [
       "array([[4. , 1. ],\n",
       "       [3. , 1. ],\n",
       "       [2.5, 0. ],\n",
       "       ...,\n",
       "       [3.5, 0. ],\n",
       "       [2. , 0. ],\n",
       "       [4. , 1. ]])"
      ]
     },
     "execution_count": 35,
     "metadata": {},
     "output_type": "execute_result"
    }
   ],
   "source": [
    "matrix_1"
   ]
  },
  {
   "cell_type": "code",
   "execution_count": 36,
   "id": "2a801d8f",
   "metadata": {},
   "outputs": [],
   "source": [
    "social = []#0\n",
    "alone = []#1\n",
    "for i in matrix_1:\n",
    "    if i[1]==0:\n",
    "        social.append(i[0])\n",
    "    elif i[1]==1:\n",
    "        alone.append(i[0])"
   ]
  },
  {
   "cell_type": "code",
   "execution_count": 37,
   "id": "1354f9ad",
   "metadata": {},
   "outputs": [],
   "source": [
    "pvalue = mannwhitneyu(social,alone,alternative=\"greater\").pvalue"
   ]
  },
  {
   "cell_type": "code",
   "execution_count": 38,
   "id": "b8df0187",
   "metadata": {},
   "outputs": [
    {
     "data": {
      "text/plain": [
       "0.9436657996253056"
      ]
     },
     "execution_count": 38,
     "metadata": {},
     "output_type": "execute_result"
    }
   ],
   "source": [
    "pvalue"
   ]
  },
  {
   "cell_type": "code",
   "execution_count": 39,
   "id": "82b724a4",
   "metadata": {},
   "outputs": [],
   "source": [
    "p = normaltest(alone).pvalue"
   ]
  },
  {
   "cell_type": "code",
   "execution_count": 40,
   "id": "e833ccc0",
   "metadata": {},
   "outputs": [
    {
     "data": {
      "text/plain": [
       "1.0549049474094136e-19"
      ]
     },
     "execution_count": 40,
     "metadata": {},
     "output_type": "execute_result"
    }
   ],
   "source": [
    "p"
   ]
  },
  {
   "cell_type": "markdown",
   "id": "4e7ef412",
   "metadata": {},
   "source": [
    "#### Q8 What proportion of movies exhibit such a “social watching” effect?"
   ]
  },
  {
   "cell_type": "code",
   "execution_count": 41,
   "id": "c124e537",
   "metadata": {},
   "outputs": [],
   "source": [
    "#problem_8\n",
    "significant_count = 0\n",
    "for i in range(400):#iterate over each of the 400 movies\n",
    "    social = []\n",
    "    alone = []\n",
    "    for j in range(0,1097):\n",
    "        if (pd.isna(datas.iloc[j,i])) or (datas.iloc[j,476]==-1):\n",
    "            pass\n",
    "        else:#has answer in both movie rating and social\n",
    "            if datas.iloc[j,476]==1:#alone\n",
    "                alone.append(datas.iloc[j,i])\n",
    "            else:#social\n",
    "                social.append(datas.iloc[j,i])\n",
    "    pvalue = mannwhitneyu(social,alone).pvalue\n",
    "    if pvalue<0.005:\n",
    "        significant_count+=1"
   ]
  },
  {
   "cell_type": "code",
   "execution_count": 42,
   "id": "e0562608",
   "metadata": {},
   "outputs": [
    {
     "data": {
      "text/plain": [
       "10"
      ]
     },
     "execution_count": 42,
     "metadata": {},
     "output_type": "execute_result"
    }
   ],
   "source": [
    "significant_count"
   ]
  },
  {
   "cell_type": "code",
   "execution_count": 43,
   "id": "3e231815",
   "metadata": {},
   "outputs": [
    {
     "data": {
      "text/plain": [
       "0.025"
      ]
     },
     "execution_count": 43,
     "metadata": {},
     "output_type": "execute_result"
    }
   ],
   "source": [
    "10/400"
   ]
  },
  {
   "cell_type": "markdown",
   "id": "aecd4cfe",
   "metadata": {},
   "source": [
    "#### Q9 Is the ratings distribution of ‘Home Alone (1990)’ different than that of ‘Finding Nemo (2003)’? "
   ]
  },
  {
   "cell_type": "code",
   "execution_count": 44,
   "id": "02a73524",
   "metadata": {},
   "outputs": [],
   "source": [
    "#problem 9 \n",
    "home_alone = datas['Home Alone (1990)'].dropna()"
   ]
  },
  {
   "cell_type": "code",
   "execution_count": 45,
   "id": "2103c17e",
   "metadata": {},
   "outputs": [],
   "source": [
    "finding_nemo = datas['Finding Nemo (2003)'].dropna()"
   ]
  },
  {
   "cell_type": "code",
   "execution_count": 46,
   "id": "61a7c7cf",
   "metadata": {},
   "outputs": [
    {
     "data": {
      "text/plain": [
       "KstestResult(statistic=0.15269080020897632, pvalue=6.379397182836346e-10, statistic_location=3.0, statistic_sign=1)"
      ]
     },
     "execution_count": 46,
     "metadata": {},
     "output_type": "execute_result"
    }
   ],
   "source": [
    "kstest(home_alone,finding_nemo)"
   ]
  },
  {
   "cell_type": "code",
   "execution_count": 47,
   "id": "6b21659a-6f80-4e0a-937d-f71c8ac46e3f",
   "metadata": {
    "tags": []
   },
   "outputs": [
    {
     "data": {
      "image/png": "[encoded data removed]",
      "text/plain": [
       "<Figure size 1000x600 with 1 Axes>"
      ]
     },
     "metadata": {},
     "output_type": "display_data"
    }
   ],
   "source": [
    "home_alone_ratings = df['Home Alone (1990)'].dropna()\n",
    "finding_nemo_ratings = df['Finding Nemo (2003)'].dropna()\n",
    "fig, ax = plt.subplots(figsize=(10, 6))\n",
    "sns.histplot(home_alone_ratings, kde=False, label='Home Alone (1990)', color='blue', stat='density', ax=ax)\n",
    "sns.histplot(finding_nemo_ratings, kde=False, label='Finding Nemo (2003)', color='orange', stat='density', ax=ax)\n",
    "\n",
    "plt.title('Overlaying Distribution Comparison for \"Home Alone (1990)\" and \"Finding Nemo (2003)\"')\n",
    "plt.xlabel('Ratings')\n",
    "plt.ylabel('Density')\n",
    "plt.legend()\n",
    "plt.savefig('q9_distribution_plots.png')\n",
    "plt.show()"
   ]
  },
  {
   "cell_type": "markdown",
   "id": "1a1dd458",
   "metadata": {},
   "source": [
    "#### Q10  There are ratings on movies from several franchises ([‘Star Wars’, ‘Harry Potter’, ‘The Matrix’, ‘Indiana Jones’, ‘Jurassic Park’, ‘Pirates of the Caribbean’, ‘Toy Story’, ‘Batman’]) in this dataset. How many of these are of inconsistent quality, as experienced by viewers? [Hint: You can use the keywords in quotation marks featured in this question to identify the movies that are part of each franchise]"
   ]
  },
  {
   "cell_type": "code",
   "execution_count": 48,
   "id": "4b90ecb6",
   "metadata": {},
   "outputs": [
    {
     "data": {
      "text/plain": [
       "Index(['Star Wars: Episode IV - A New Hope (1977)',\n",
       "       'Star Wars: Episode II - Attack of the Clones (2002)',\n",
       "       'Star Wars: Episode V - The Empire Strikes Back (1980)',\n",
       "       'Star Wars: Episode 1 - The Phantom Menace (1999)',\n",
       "       'Star Wars: Episode VII - The Force Awakens (2015)',\n",
       "       'Star Wars: Episode VI - The Return of the Jedi (1983)'],\n",
       "      dtype='object')"
      ]
     },
     "execution_count": 48,
     "metadata": {},
     "output_type": "execute_result"
    }
   ],
   "source": [
    "#problem 10\n",
    "sw_series = datas.filter(regex = 'Star Wars')\n",
    "sw_series.columns"
   ]
  },
  {
   "cell_type": "code",
   "execution_count": 49,
   "id": "4d09c925",
   "metadata": {},
   "outputs": [],
   "source": [
    "sw = datas[['Star Wars: Episode IV - A New Hope (1977)','Star Wars: Episode II - Attack of the Clones (2002)',\n",
    "       'Star Wars: Episode V - The Empire Strikes Back (1980)',\n",
    "       'Star Wars: Episode 1 - The Phantom Menace (1999)',\n",
    "       'Star Wars: Episode VII - The Force Awakens (2015)',\n",
    "       'Star Wars: Episode VI - The Return of the Jedi (1983)']].dropna().to_numpy()"
   ]
  },
  {
   "cell_type": "code",
   "execution_count": 50,
   "id": "0579dffb",
   "metadata": {},
   "outputs": [
    {
     "data": {
      "text/plain": [
       "array([[4. , 0. , 4. , 0. , 2.5, 4. ],\n",
       "       [4. , 3.5, 4. , 4. , 4. , 4. ],\n",
       "       [3. , 4. , 4. , 4. , 4. , 4. ],\n",
       "       ...,\n",
       "       [3.5, 3.5, 4. , 3.5, 3.5, 4. ],\n",
       "       [4. , 3. , 3.5, 4. , 4. , 4. ],\n",
       "       [3. , 1.5, 3. , 2.5, 4. , 4. ]])"
      ]
     },
     "execution_count": 50,
     "metadata": {},
     "output_type": "execute_result"
    }
   ],
   "source": [
    "sw"
   ]
  },
  {
   "cell_type": "code",
   "execution_count": 51,
   "id": "f9d9e078",
   "metadata": {},
   "outputs": [],
   "source": [
    "sw1 = sw[:,0]\n",
    "sw2 = sw[:,1]\n",
    "sw3 = sw[:,2]\n",
    "sw4 = sw[:,3]\n",
    "sw5 = sw[:,4]\n",
    "sw6 = sw[:,5]"
   ]
  },
  {
   "cell_type": "code",
   "execution_count": 52,
   "id": "78fc0dd2",
   "metadata": {},
   "outputs": [
    {
     "data": {
      "text/plain": [
       "Index(['Star Wars: Episode IV - A New Hope (1977)',\n",
       "       'Star Wars: Episode II - Attack of the Clones (2002)',\n",
       "       'Star Wars: Episode V - The Empire Strikes Back (1980)',\n",
       "       'Star Wars: Episode 1 - The Phantom Menace (1999)',\n",
       "       'Star Wars: Episode VII - The Force Awakens (2015)',\n",
       "       'Star Wars: Episode VI - The Return of the Jedi (1983)'],\n",
       "      dtype='object')"
      ]
     },
     "execution_count": 52,
     "metadata": {},
     "output_type": "execute_result"
    }
   ],
   "source": [
    "sw_series.columns"
   ]
  },
  {
   "cell_type": "code",
   "execution_count": 53,
   "id": "c11a2b6f",
   "metadata": {},
   "outputs": [
    {
     "data": {
      "text/plain": [
       "FriedmanchisquareResult(statistic=274.10740469208264, pvalue=3.6709439947980374e-57)"
      ]
     },
     "execution_count": 53,
     "metadata": {},
     "output_type": "execute_result"
    }
   ],
   "source": [
    "friedmanchisquare(sw1, sw2, sw3, sw4, sw5, sw6)"
   ]
  },
  {
   "cell_type": "code",
   "execution_count": 54,
   "id": "2242d34e",
   "metadata": {},
   "outputs": [],
   "source": [
    "hp_series = datas.filter(regex = 'Harry Potter')"
   ]
  },
  {
   "cell_type": "code",
   "execution_count": 55,
   "id": "62882d1e",
   "metadata": {},
   "outputs": [
    {
     "data": {
      "text/plain": [
       "Index(['Harry Potter and the Sorcerer's Stone (2001)',\n",
       "       'Harry Potter and the Deathly Hallows: Part 2 (2011)',\n",
       "       'Harry Potter and the Goblet of Fire (2005)',\n",
       "       'Harry Potter and the Chamber of Secrets (2002)'],\n",
       "      dtype='object')"
      ]
     },
     "execution_count": 55,
     "metadata": {},
     "output_type": "execute_result"
    }
   ],
   "source": [
    "hp_series.columns"
   ]
  },
  {
   "cell_type": "code",
   "execution_count": 56,
   "id": "6bec65d6",
   "metadata": {},
   "outputs": [],
   "source": [
    "hp = datas[['Harry Potter and the Sorcerer\\'s Stone (2001)',\n",
    "       'Harry Potter and the Deathly Hallows: Part 2 (2011)',\n",
    "       'Harry Potter and the Goblet of Fire (2005)',\n",
    "       'Harry Potter and the Chamber of Secrets (2002)']].dropna().to_numpy()"
   ]
  },
  {
   "cell_type": "code",
   "execution_count": 57,
   "id": "ccc8a85a",
   "metadata": {},
   "outputs": [],
   "source": [
    "hp1 = hp[:,0]\n",
    "hp2 = hp[:,1]\n",
    "hp3 = hp[:,2]\n",
    "hp4 = hp[:,3]"
   ]
  },
  {
   "cell_type": "code",
   "execution_count": 58,
   "id": "8b02a07d",
   "metadata": {},
   "outputs": [
    {
     "data": {
      "text/plain": [
       "FriedmanchisquareResult(statistic=15.918421052632318, pvalue=0.0011785008446512004)"
      ]
     },
     "execution_count": 58,
     "metadata": {},
     "output_type": "execute_result"
    }
   ],
   "source": [
    "friedmanchisquare(hp1, hp2, hp3, hp4)"
   ]
  },
  {
   "cell_type": "code",
   "execution_count": 59,
   "id": "749d75e6",
   "metadata": {},
   "outputs": [],
   "source": [
    "ma_series = datas.filter(regex = 'The Matrix')"
   ]
  },
  {
   "cell_type": "code",
   "execution_count": 60,
   "id": "7b797bc5",
   "metadata": {},
   "outputs": [
    {
     "data": {
      "text/plain": [
       "Index(['The Matrix Revolutions (2003)', 'The Matrix Reloaded (2003)',\n",
       "       'The Matrix (1999)'],\n",
       "      dtype='object')"
      ]
     },
     "execution_count": 60,
     "metadata": {},
     "output_type": "execute_result"
    }
   ],
   "source": [
    "ma_series.columns"
   ]
  },
  {
   "cell_type": "code",
   "execution_count": 61,
   "id": "d4e4bbe4",
   "metadata": {},
   "outputs": [],
   "source": [
    "ma = datas[['The Matrix Revolutions (2003)', 'The Matrix Reloaded (2003)',\n",
    "       'The Matrix (1999)']].dropna().to_numpy()"
   ]
  },
  {
   "cell_type": "code",
   "execution_count": 62,
   "id": "23a8b3f1",
   "metadata": {},
   "outputs": [],
   "source": [
    "ma1 = ma[:,0]\n",
    "ma2 = ma[:,1]\n",
    "ma3 = ma[:,2]"
   ]
  },
  {
   "cell_type": "code",
   "execution_count": 63,
   "id": "72918b93",
   "metadata": {},
   "outputs": [
    {
     "data": {
      "text/plain": [
       "FriedmanchisquareResult(statistic=67.62078651685432, pvalue=2.0717281964718423e-15)"
      ]
     },
     "execution_count": 63,
     "metadata": {},
     "output_type": "execute_result"
    }
   ],
   "source": [
    "friedmanchisquare(ma1,ma2,ma3)"
   ]
  },
  {
   "cell_type": "code",
   "execution_count": 64,
   "id": "869fe325",
   "metadata": {},
   "outputs": [
    {
     "data": {
      "text/plain": [
       "Index(['Indiana Jones and the Last Crusade (1989)',\n",
       "       'Indiana Jones and the Temple of Doom (1984)',\n",
       "       'Indiana Jones and the Raiders of the Lost Ark (1981)',\n",
       "       'Indiana Jones and the Kingdom of the Crystal Skull (2008)'],\n",
       "      dtype='object')"
      ]
     },
     "execution_count": 64,
     "metadata": {},
     "output_type": "execute_result"
    }
   ],
   "source": [
    "ij_series = datas.filter(regex = 'Indiana')\n",
    "ij_series.columns"
   ]
  },
  {
   "cell_type": "code",
   "execution_count": 65,
   "id": "2ed37fda",
   "metadata": {},
   "outputs": [],
   "source": [
    "ij = datas[['Indiana Jones and the Last Crusade (1989)',\n",
    "       'Indiana Jones and the Temple of Doom (1984)',\n",
    "       'Indiana Jones and the Raiders of the Lost Ark (1981)',\n",
    "       'Indiana Jones and the Kingdom of the Crystal Skull (2008)']].dropna().to_numpy()"
   ]
  },
  {
   "cell_type": "code",
   "execution_count": 66,
   "id": "4fc2257f",
   "metadata": {},
   "outputs": [],
   "source": [
    "ij1 = ij[:,0]\n",
    "ij2 = ij[:,1]\n",
    "ij3 = ij[:,2]\n",
    "ij4 = ij[:,3]"
   ]
  },
  {
   "cell_type": "code",
   "execution_count": 67,
   "id": "25e41d18",
   "metadata": {},
   "outputs": [
    {
     "data": {
      "text/plain": [
       "FriedmanchisquareResult(statistic=83.4644655847796, pvalue=5.542750833909764e-18)"
      ]
     },
     "execution_count": 67,
     "metadata": {},
     "output_type": "execute_result"
    }
   ],
   "source": [
    "friedmanchisquare(ij1,ij2,ij3,ij4)"
   ]
  },
  {
   "cell_type": "code",
   "execution_count": 68,
   "id": "5cb6bd93",
   "metadata": {},
   "outputs": [
    {
     "data": {
      "text/plain": [
       "Index(['The Lost World: Jurassic Park (1997)', 'Jurassic Park III (2001)',\n",
       "       'Jurassic Park (1993)'],\n",
       "      dtype='object')"
      ]
     },
     "execution_count": 68,
     "metadata": {},
     "output_type": "execute_result"
    }
   ],
   "source": [
    "jp_series = datas.filter(regex = 'Jurassic')\n",
    "jp_series.columns"
   ]
  },
  {
   "cell_type": "code",
   "execution_count": 69,
   "id": "7b4c4d76",
   "metadata": {},
   "outputs": [],
   "source": [
    "jp = datas[['The Lost World: Jurassic Park (1997)', 'Jurassic Park III (2001)',\n",
    "       'Jurassic Park (1993)']].dropna().to_numpy()"
   ]
  },
  {
   "cell_type": "code",
   "execution_count": 70,
   "id": "e47710fa",
   "metadata": {},
   "outputs": [],
   "source": [
    "jp1 = jp[:,0]\n",
    "jp2 = jp[:,1]\n",
    "jp3 = jp[:,2]"
   ]
  },
  {
   "cell_type": "code",
   "execution_count": 71,
   "id": "d82fba35",
   "metadata": {},
   "outputs": [
    {
     "data": {
      "text/plain": [
       "FriedmanchisquareResult(statistic=76.01454545454507, pvalue=3.116385552875769e-17)"
      ]
     },
     "execution_count": 71,
     "metadata": {},
     "output_type": "execute_result"
    }
   ],
   "source": [
    "friedmanchisquare(jp1,jp2,jp3)"
   ]
  },
  {
   "cell_type": "code",
   "execution_count": 72,
   "id": "f3a3168e",
   "metadata": {},
   "outputs": [
    {
     "data": {
      "text/plain": [
       "Index(['Pirates of the Caribbean: Dead Man's Chest (2006)',\n",
       "       'Pirates of the Caribbean: At World's End (2007)',\n",
       "       'Pirates of the Caribbean: The Curse of the Black Pearl (2003)'],\n",
       "      dtype='object')"
      ]
     },
     "execution_count": 72,
     "metadata": {},
     "output_type": "execute_result"
    }
   ],
   "source": [
    "pc_series = datas.filter(regex = 'Pirates of')\n",
    "pc_series.columns"
   ]
  },
  {
   "cell_type": "code",
   "execution_count": 73,
   "id": "57494344",
   "metadata": {},
   "outputs": [
    {
     "data": {
      "text/plain": [
       "array([[2. , 1. , 3. ],\n",
       "       [2. , 3. , 3. ],\n",
       "       [4. , 4. , 4. ],\n",
       "       ...,\n",
       "       [3.5, 3.5, 4. ],\n",
       "       [3.5, 3.5, 3.5],\n",
       "       [2.5, 3.5, 4. ]])"
      ]
     },
     "execution_count": 73,
     "metadata": {},
     "output_type": "execute_result"
    }
   ],
   "source": [
    "pc = datas[['Pirates of the Caribbean: Dead Man\\'s Chest (2006)',\n",
    "       'Pirates of the Caribbean: At World\\'s End (2007)',\n",
    "       'Pirates of the Caribbean: The Curse of the Black Pearl (2003)']].dropna().to_numpy()\n",
    "pc"
   ]
  },
  {
   "cell_type": "code",
   "execution_count": 74,
   "id": "58d67422",
   "metadata": {},
   "outputs": [
    {
     "data": {
      "text/plain": [
       "FriedmanchisquareResult(statistic=21.88005780346822, pvalue=1.7733963738836908e-05)"
      ]
     },
     "execution_count": 74,
     "metadata": {},
     "output_type": "execute_result"
    }
   ],
   "source": [
    "pc1 = pc[:,0]\n",
    "pc2 = pc[:,1]\n",
    "pc3 = pc[:,2]\n",
    "friedmanchisquare(pc1,pc2,pc3)"
   ]
  },
  {
   "cell_type": "code",
   "execution_count": 75,
   "id": "6e5ec26c",
   "metadata": {},
   "outputs": [
    {
     "data": {
      "text/plain": [
       "Index(['Toy Story 2 (1999)', 'Toy Story 3 (2010)', 'Toy Story (1995)'], dtype='object')"
      ]
     },
     "execution_count": 75,
     "metadata": {},
     "output_type": "execute_result"
    }
   ],
   "source": [
    "ts_series = datas.filter(regex = 'Toy Story')\n",
    "ts_series.columns"
   ]
  },
  {
   "cell_type": "code",
   "execution_count": 76,
   "id": "f25cd5ac",
   "metadata": {},
   "outputs": [
    {
     "data": {
      "text/plain": [
       "array([[3. , 3. , 4. ],\n",
       "       [1. , 4. , 3. ],\n",
       "       [3. , 3. , 3. ],\n",
       "       ...,\n",
       "       [3. , 3.5, 3. ],\n",
       "       [2.5, 3.5, 3. ],\n",
       "       [4. , 4. , 4. ]])"
      ]
     },
     "execution_count": 76,
     "metadata": {},
     "output_type": "execute_result"
    }
   ],
   "source": [
    "ts = datas[['Toy Story 2 (1999)', 'Toy Story 3 (2010)', 'Toy Story (1995)']].dropna().to_numpy()\n",
    "ts"
   ]
  },
  {
   "cell_type": "code",
   "execution_count": 77,
   "id": "dacdaec7",
   "metadata": {},
   "outputs": [],
   "source": [
    "ts1 = ts[:,0]\n",
    "ts2 = ts[:,1]\n",
    "ts3 = ts[:,2]"
   ]
  },
  {
   "cell_type": "code",
   "execution_count": 78,
   "id": "59e4686d",
   "metadata": {},
   "outputs": [
    {
     "data": {
      "text/plain": [
       "FriedmanchisquareResult(statistic=56.338080495357836, pvalue=5.839037439450979e-13)"
      ]
     },
     "execution_count": 78,
     "metadata": {},
     "output_type": "execute_result"
    }
   ],
   "source": [
    "friedmanchisquare(ts1,ts2,ts3)"
   ]
  },
  {
   "cell_type": "code",
   "execution_count": 79,
   "id": "3ce4caad",
   "metadata": {},
   "outputs": [
    {
     "data": {
      "text/plain": [
       "Index(['Batman & Robin (1997)', 'Batman (1989)',\n",
       "       'Batman: The Dark Knight (2008)'],\n",
       "      dtype='object')"
      ]
     },
     "execution_count": 79,
     "metadata": {},
     "output_type": "execute_result"
    }
   ],
   "source": [
    "bm_series = datas.filter(regex = 'Batman')\n",
    "bm_series.columns"
   ]
  },
  {
   "cell_type": "code",
   "execution_count": 80,
   "id": "7a883f20",
   "metadata": {},
   "outputs": [],
   "source": [
    "bm = datas[['Batman & Robin (1997)', 'Batman (1989)',\n",
    "       'Batman: The Dark Knight (2008)']].dropna().to_numpy()"
   ]
  },
  {
   "cell_type": "code",
   "execution_count": 81,
   "id": "40a4e2a0",
   "metadata": {},
   "outputs": [],
   "source": [
    "bm1= bm[:,0]\n",
    "bm2 = bm[:,1]\n",
    "bm3 = bm[:,2]"
   ]
  },
  {
   "cell_type": "code",
   "execution_count": 82,
   "id": "5baf76ed",
   "metadata": {},
   "outputs": [
    {
     "data": {
      "text/plain": [
       "FriedmanchisquareResult(statistic=102.47941176470552, pvalue=5.58313952192982e-23)"
      ]
     },
     "execution_count": 82,
     "metadata": {},
     "output_type": "execute_result"
    }
   ],
   "source": [
    "friedmanchisquare(bm1,bm2,bm3)"
   ]
  },
  {
   "cell_type": "code",
   "execution_count": 83,
   "id": "dfff0f3f",
   "metadata": {},
   "outputs": [
    {
     "data": {
      "text/plain": [
       "46"
      ]
     },
     "execution_count": 83,
     "metadata": {},
     "output_type": "execute_result"
    }
   ],
   "source": [
    "datas.columns.get_loc('Batman & Robin (1997)')"
   ]
  },
  {
   "cell_type": "code",
   "execution_count": 84,
   "id": "996b331a",
   "metadata": {},
   "outputs": [
    {
     "data": {
      "text/plain": [
       "181"
      ]
     },
     "execution_count": 84,
     "metadata": {},
     "output_type": "execute_result"
    }
   ],
   "source": [
    "datas.columns.get_loc('Batman (1989)')"
   ]
  },
  {
   "cell_type": "code",
   "execution_count": 85,
   "id": "6701c08f",
   "metadata": {},
   "outputs": [
    {
     "data": {
      "text/plain": [
       "235"
      ]
     },
     "execution_count": 85,
     "metadata": {},
     "output_type": "execute_result"
    }
   ],
   "source": [
    "datas.columns.get_loc('Batman: The Dark Knight (2008)')"
   ]
  },
  {
   "cell_type": "code",
   "execution_count": 86,
   "id": "75301da4",
   "metadata": {},
   "outputs": [
    {
     "data": {
      "text/plain": [
       "'Gender identity (1 = female; 2 = male; 3 = self-described)'"
      ]
     },
     "execution_count": 86,
     "metadata": {},
     "output_type": "execute_result"
    }
   ],
   "source": [
    "datas.columns[474]"
   ]
  },
  {
   "cell_type": "markdown",
   "id": "d348f159",
   "metadata": {},
   "source": [
    "#### Extra Credit: We may have heard about the stereotype that male viewers do like Batman movies more than female viewers do. Is this true according to your tests?"
   ]
  },
  {
   "cell_type": "code",
   "execution_count": 87,
   "id": "a059cf48",
   "metadata": {},
   "outputs": [],
   "source": [
    "#extra credit question\n",
    "male = []\n",
    "female = []\n",
    "for i in [46,181,235]:#iterate over three Batman movies\n",
    "    for j in range(0,1097):\n",
    "        if (pd.isna(datas.iloc[j,i])) or (datas.iloc[j,474]==3):\n",
    "            pass\n",
    "        else:#identified as male or female and has watched batman\n",
    "            if datas.iloc[j,474]==1:#female\n",
    "                female.append(datas.iloc[j,i])\n",
    "            else:#male\n",
    "                male.append(datas.iloc[j,i])"
   ]
  },
  {
   "cell_type": "code",
   "execution_count": 88,
   "id": "f5867092",
   "metadata": {},
   "outputs": [
    {
     "data": {
      "text/plain": [
       "0.11866990804380168"
      ]
     },
     "execution_count": 88,
     "metadata": {},
     "output_type": "execute_result"
    }
   ],
   "source": [
    "mannwhitneyu(male,female,alternative=\"greater\").pvalue"
   ]
  },
  {
   "cell_type": "markdown",
   "id": "a99760b5",
   "metadata": {},
   "source": []
  }
 ],
 "metadata": {
  "kernelspec": {
   "display_name": "Python 3 (ipykernel)",
   "language": "python",
   "name": "python3"
  },
  "language_info": {
   "codemirror_mode": {
    "name": "ipython",
    "version": 3
   },
   "file_extension": ".py",
   "mimetype": "text/x-python",
   "name": "python",
   "nbconvert_exporter": "python",
   "pygments_lexer": "ipython3",
   "version": "3.12.1"
  }
 },
 "nbformat": 4,
 "nbformat_minor": 5
}
